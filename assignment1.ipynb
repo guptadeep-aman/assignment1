{
 "cells": [
  {
   "cell_type": "code",
   "execution_count": 3,
   "id": "0ffebff2-cb34-4315-8ad8-27a7e56c1a4c",
   "metadata": {},
   "outputs": [
    {
     "name": "stdout",
     "output_type": "stream",
     "text": [
      "ans: Guido van rossum\n"
     ]
    }
   ],
   "source": [
    "#1 who developed python programming language\n",
    "print(\"ans: Guido van rossum\")"
   ]
  },
  {
   "cell_type": "code",
   "execution_count": 4,
   "id": "9fc65d17-01f8-4524-9219-750604e95b2a",
   "metadata": {},
   "outputs": [
    {
     "name": "stdout",
     "output_type": "stream",
     "text": [
      "ans: python support object-oriented programming, structured programming and functional programming\n"
     ]
    }
   ],
   "source": [
    "#2 which type of programming does python support\n",
    "print(\"ans: python support object-oriented programming, structured programming and functional programming\")"
   ]
  },
  {
   "cell_type": "code",
   "execution_count": 6,
   "id": "7908c915-3a50-4a15-ad40-44b4a9669f59",
   "metadata": {},
   "outputs": [
    {
     "name": "stdout",
     "output_type": "stream",
     "text": [
      "True\n"
     ]
    }
   ],
   "source": [
    "#3 is python case sensitive when dealing with identifier\n",
    "True"
   ]
  },
  {
   "cell_type": "code",
   "execution_count": 7,
   "id": "afa9a737-36d0-4789-9dac-2c05b4802983",
   "metadata": {},
   "outputs": [
    {
     "name": "stdout",
     "output_type": "stream",
     "text": [
      ".py is the coorect extention of pyhton\n"
     ]
    }
   ],
   "source": [
    "#4 what is correct extension of python file\n",
    "print(\".py is the coorect extention of pyhton\")"
   ]
  },
  {
   "cell_type": "code",
   "execution_count": 8,
   "id": "f1752720-dc46-420f-86f8-e87f285883d3",
   "metadata": {},
   "outputs": [
    {
     "name": "stdout",
     "output_type": "stream",
     "text": [
      "python is interpreted language\n"
     ]
    }
   ],
   "source": [
    "#5 is python code compile or interpreted?\n",
    "print(\"python is interpreted language\")"
   ]
  },
  {
   "cell_type": "code",
   "execution_count": 9,
   "id": "8f250749-30eb-4364-a6af-0f9da79ab724",
   "metadata": {},
   "outputs": [
    {
     "name": "stdout",
     "output_type": "stream",
     "text": [
      "module, function body, and  class definition are some block of code\n"
     ]
    }
   ],
   "source": [
    "#6 name a few block of code used to define in python language\n",
    "print(\"a module, a function body, and a class definition are some block of code\")"
   ]
  },
  {
   "cell_type": "code",
   "execution_count": 10,
   "id": "e89e9073-132e-402d-8a46-041ebefebd8f",
   "metadata": {},
   "outputs": [
    {
     "name": "stdout",
     "output_type": "stream",
     "text": [
      "#\n"
     ]
    }
   ],
   "source": [
    "#7 state a character to give a single line comment\n",
    "print(\"#\")"
   ]
  },
  {
   "cell_type": "code",
   "execution_count": 2,
   "id": "584fbce1-9273-4fd4-8b72-7b25b6d8b332",
   "metadata": {},
   "outputs": [
    {
     "name": "stdout",
     "output_type": "stream",
     "text": [
      "3.10.8\n"
     ]
    }
   ],
   "source": [
    "#8 function to find the version of python that we are currently using\n",
    "from platform import python_version\n",
    "print(python_version())"
   ]
  },
  {
   "cell_type": "code",
   "execution_count": 3,
   "id": "80558e77-662a-494c-9582-95d5fb4a2677",
   "metadata": {},
   "outputs": [
    {
     "name": "stdout",
     "output_type": "stream",
     "text": [
      "ans: lambda\n"
     ]
    }
   ],
   "source": [
    "#9 python support the creation of anonymous function of runtime, using a construct called ...\n",
    "print(\"ans: lambda\")"
   ]
  },
  {
   "cell_type": "code",
   "execution_count": 4,
   "id": "64fc63fb-4457-4916-ae0a-aaabb83b913b",
   "metadata": {},
   "outputs": [
    {
     "name": "stdout",
     "output_type": "stream",
     "text": [
      "pip install package\n"
     ]
    }
   ],
   "source": [
    "#10 what does pip stand for python\n",
    "print(\"ans: pip install packages\")"
   ]
  },
  {
   "cell_type": "code",
   "execution_count": 5,
   "id": "1e5af608-038e-4f9b-8601-5b17236e217c",
   "metadata": {},
   "outputs": [
    {
     "name": "stdout",
     "output_type": "stream",
     "text": [
      "ans: len(), print(), list(), int(), float() etc\n"
     ]
    }
   ],
   "source": [
    "#11 mention a few built-in functions in python\n",
    "print(\"ans: len(), print(), list(), int(), float() etc\") "
   ]
  },
  {
   "cell_type": "code",
   "execution_count": 11,
   "id": "4ed27aad-c077-494c-a698-893a4384f6c0",
   "metadata": {},
   "outputs": [
    {
     "data": {
      "text/plain": [
       "'79 characters'"
      ]
     },
     "execution_count": 11,
     "metadata": {},
     "output_type": "execute_result"
    }
   ],
   "source": [
    "#12 what is the maximum possible length of an identifier in python\n",
    "\"79 characters\""
   ]
  },
  {
   "cell_type": "code",
   "execution_count": 8,
   "id": "57e3508f-01fd-4259-82b0-7eab5fdaf4e8",
   "metadata": {},
   "outputs": [
    {
     "name": "stdout",
     "output_type": "stream",
     "text": [
      "Easy to use, interpreted language, vast libraries support, free and open source, portability\n"
     ]
    }
   ],
   "source": [
    "#13 what are the benefits of using python\n",
    "print(\"Easy to use, interpreted language, vast libraries support, free and open source, portability\")\n"
   ]
  },
  {
   "cell_type": "code",
   "execution_count": 9,
   "id": "429741cb-230f-4b38-ba50-f1d87a7c0582",
   "metadata": {},
   "outputs": [
    {
     "name": "stdout",
     "output_type": "stream",
     "text": [
      "Memory management in Python involves a private heap containing all Python objects and data structures\n"
     ]
    }
   ],
   "source": [
    "#14 how is memory managed in python\n",
    "print(\"Memory management in Python involves a private heap containing all Python objects and data structures\")\n"
   ]
  },
  {
   "cell_type": "code",
   "execution_count": 10,
   "id": "de16b652-cc42-4ae5-a1dd-57ece6e6c055",
   "metadata": {},
   "outputs": [
    {
     "data": {
      "text/plain": [
       "' Ans : The complete path of python.exe can be added by:\\nRight-clicking This PC and going to Properties.\\nClicking on the Advanced system settings in the menu on the left.\\nClicking on the Environment Variables button on the bottom right.\\nIn the System variables section, selecting the Path variable and clicking on Edit. The next screen will show all the directories that are currently a part of the PATH variable.\\nClicking on New and entering Python’s install directory.'"
      ]
     },
     "execution_count": 10,
     "metadata": {},
     "output_type": "execute_result"
    }
   ],
   "source": [
    "#15 how to install python on window and set path variable\n",
    "\"\"\" Ans : The complete path of python.exe can be added by:\n",
    "Right-clicking This PC and going to Properties.\n",
    "Clicking on the Advanced system settings in the menu on the left.\n",
    "Clicking on the Environment Variables button on the bottom right.\n",
    "In the System variables section, selecting the Path variable and clicking on Edit. The next screen will show all the directories that are currently a part of the PATH variable.\n",
    "Clicking on New and entering Python’s install directory.\"\"\""
   ]
  },
  {
   "cell_type": "code",
   "execution_count": 12,
   "id": "d53e8c71-daf7-41e8-90ce-c8623c86ca0c",
   "metadata": {},
   "outputs": [
    {
     "data": {
      "text/plain": [
       "'yes indentation is must. as python do not uses brackets so indentation is used to indicate a block of code'"
      ]
     },
     "execution_count": 12,
     "metadata": {},
     "output_type": "execute_result"
    }
   ],
   "source": [
    "#16 is indentation is required in pyhton?\n",
    "\"yes indentation is must. as python do not uses brackets so indentation is used to indicate a block of code\""
   ]
  },
  {
   "cell_type": "code",
   "execution_count": null,
   "id": "b8e50807-a9d3-4cd2-8b03-6371d952025b",
   "metadata": {},
   "outputs": [],
   "source": []
  }
 ],
 "metadata": {
  "kernelspec": {
   "display_name": "Python 3 (ipykernel)",
   "language": "python",
   "name": "python3"
  },
  "language_info": {
   "codemirror_mode": {
    "name": "ipython",
    "version": 3
   },
   "file_extension": ".py",
   "mimetype": "text/x-python",
   "name": "python",
   "nbconvert_exporter": "python",
   "pygments_lexer": "ipython3",
   "version": "3.10.8"
  }
 },
 "nbformat": 4,
 "nbformat_minor": 5
}
